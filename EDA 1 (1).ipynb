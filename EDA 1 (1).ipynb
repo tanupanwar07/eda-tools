{
 "cells": [
  {
   "cell_type": "markdown",
   "id": "68b86a32",
   "metadata": {},
   "source": [
    "## *Different EDA tools in python*"
   ]
  },
  {
   "cell_type": "code",
   "execution_count": null,
   "id": "abafb47b",
   "metadata": {},
   "outputs": [],
   "source": [
    "import pandas as pd"
   ]
  },
  {
   "cell_type": "code",
   "execution_count": null,
   "id": "b256127c",
   "metadata": {},
   "outputs": [],
   "source": [
    "df=pd.read_csv(r\"train.csv\")"
   ]
  },
  {
   "cell_type": "code",
   "execution_count": null,
   "id": "a0676488",
   "metadata": {},
   "outputs": [],
   "source": [
    "df"
   ]
  },
  {
   "cell_type": "markdown",
   "id": "9f955e5b",
   "metadata": {},
   "source": [
    "### EDA USING PANDAS PROFILING"
   ]
  },
  {
   "cell_type": "code",
   "execution_count": null,
   "id": "3b8555fd",
   "metadata": {},
   "outputs": [],
   "source": [
    "!pip install pandas_profiling"
   ]
  },
  {
   "cell_type": "code",
   "execution_count": null,
   "id": "12551b30",
   "metadata": {},
   "outputs": [],
   "source": [
    "from pandas_profiling import ProfileReport\n",
    "data_profile= ProfileReport(df)\n",
    "data_profile"
   ]
  },
  {
   "cell_type": "code",
   "execution_count": null,
   "id": "3f4ced2f",
   "metadata": {},
   "outputs": [],
   "source": [
    "data_profile.to_file( \"report.html\")\n"
   ]
  },
  {
   "cell_type": "markdown",
   "id": "de547c31",
   "metadata": {},
   "source": [
    "### EDA USING D-TALE"
   ]
  },
  {
   "cell_type": "code",
   "execution_count": null,
   "id": "36293f56",
   "metadata": {
    "scrolled": false
   },
   "outputs": [],
   "source": [
    "!pip install dtale"
   ]
  },
  {
   "cell_type": "code",
   "execution_count": null,
   "id": "6911b395",
   "metadata": {
    "scrolled": false
   },
   "outputs": [],
   "source": [
    "import dtale\n",
    "dtale.show(df)"
   ]
  },
  {
   "cell_type": "markdown",
   "id": "7b181770",
   "metadata": {},
   "source": [
    "### EDA USING SWEETVIZ"
   ]
  },
  {
   "cell_type": "code",
   "execution_count": null,
   "id": "900bcd3c",
   "metadata": {},
   "outputs": [],
   "source": [
    "!pip install sweetviz"
   ]
  },
  {
   "cell_type": "code",
   "execution_count": null,
   "id": "3d972977",
   "metadata": {},
   "outputs": [],
   "source": [
    "import sweetviz as sv\n",
    "s_report=sv.analyze(df)"
   ]
  },
  {
   "cell_type": "code",
   "execution_count": null,
   "id": "a0b9f50f",
   "metadata": {},
   "outputs": [],
   "source": [
    "s_report.show_html('SWEETVIZ_REPORT.html',open_browser=True)"
   ]
  },
  {
   "cell_type": "markdown",
   "id": "58398329",
   "metadata": {},
   "source": [
    "### EDA USING AUTOVIZ"
   ]
  },
  {
   "cell_type": "code",
   "execution_count": null,
   "id": "df51c9a2",
   "metadata": {},
   "outputs": [],
   "source": [
    "!pip install autoviz "
   ]
  },
  {
   "cell_type": "code",
   "execution_count": null,
   "id": "e0c922a6",
   "metadata": {},
   "outputs": [],
   "source": [
    "from autoviz.AutoViz_Class import AutoViz_Class\n",
    "A= AutoViz_Class()\n",
    "autoviz=A.AutoViz(\"train.csv\")"
   ]
  },
  {
   "cell_type": "markdown",
   "id": "1761c880",
   "metadata": {},
   "source": [
    "### EDA USING DATAPREP"
   ]
  },
  {
   "cell_type": "code",
   "execution_count": null,
   "id": "57d583f4",
   "metadata": {},
   "outputs": [],
   "source": [
    "!pip install dataprep"
   ]
  },
  {
   "cell_type": "code",
   "execution_count": null,
   "id": "5f8a7cbf",
   "metadata": {},
   "outputs": [],
   "source": [
    "from dataprep.eda import create_report\n",
    "create_report(df)"
   ]
  },
  {
   "cell_type": "code",
   "execution_count": null,
   "id": "34392dc3",
   "metadata": {},
   "outputs": [],
   "source": []
  }
 ],
 "metadata": {
  "kernelspec": {
   "display_name": "Python 3 (ipykernel)",
   "language": "python",
   "name": "python3"
  },
  "language_info": {
   "codemirror_mode": {
    "name": "ipython",
    "version": 3
   },
   "file_extension": ".py",
   "mimetype": "text/x-python",
   "name": "python",
   "nbconvert_exporter": "python",
   "pygments_lexer": "ipython3",
   "version": "3.9.12"
  }
 },
 "nbformat": 4,
 "nbformat_minor": 5
}
